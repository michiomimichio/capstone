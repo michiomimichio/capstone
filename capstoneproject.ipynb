{
 "cells": [
  {
   "cell_type": "code",
   "execution_count": 1,
   "id": "9bbbf57c",
   "metadata": {},
   "outputs": [],
   "source": [
    "from pyspark.sql import SparkSession"
   ]
  },
  {
   "cell_type": "code",
   "execution_count": 2,
   "id": "49118ccf",
   "metadata": {},
   "outputs": [],
   "source": [
    "spark=SparkSession.builder.appName(\"Hive tables\").enableHiveSupport().getOrCreate()"
   ]
  },
  {
   "cell_type": "code",
   "execution_count": 3,
   "id": "c0fe0f18",
   "metadata": {},
   "outputs": [
    {
     "data": {
      "text/html": [
       "\n",
       "            <div>\n",
       "                <p><b>SparkSession - hive</b></p>\n",
       "                \n",
       "        <div>\n",
       "            <p><b>SparkContext</b></p>\n",
       "\n",
       "            <p><a href=\"http://g02.itversity.com:4041\">Spark UI</a></p>\n",
       "\n",
       "            <dl>\n",
       "              <dt>Version</dt>\n",
       "                <dd><code>v3.0.1</code></dd>\n",
       "              <dt>Master</dt>\n",
       "                <dd><code>yarn</code></dd>\n",
       "              <dt>AppName</dt>\n",
       "                <dd><code>Hive tables</code></dd>\n",
       "            </dl>\n",
       "        </div>\n",
       "        \n",
       "            </div>\n",
       "        "
      ],
      "text/plain": [
       "<pyspark.sql.session.SparkSession at 0x7f58375645f8>"
      ]
     },
     "execution_count": 3,
     "metadata": {},
     "output_type": "execute_result"
    }
   ],
   "source": [
    "spark"
   ]
  },
  {
   "cell_type": "markdown",
   "id": "faca9d94",
   "metadata": {},
   "source": [
    "#### 1.Create PySpark dataframes and read data from the two Hive tables."
   ]
  },
  {
   "cell_type": "code",
   "execution_count": 4,
   "id": "7bcbc0b1",
   "metadata": {},
   "outputs": [],
   "source": [
    "course_details_df=spark.read.table(\"deepakdb.course_details_partitioned\")"
   ]
  },
  {
   "cell_type": "code",
   "execution_count": 5,
   "id": "da2bf243",
   "metadata": {},
   "outputs": [],
   "source": [
    "course_completion_df=spark.read.table(\"deepakdb.coursecompletion\")"
   ]
  },
  {
   "cell_type": "code",
   "execution_count": 6,
   "id": "1d36ca3c",
   "metadata": {},
   "outputs": [
    {
     "data": {
      "text/html": [
       "<table border='1'>\n",
       "<tr><th>courseid</th><th>title</th><th>competency</th><th>complexity</th><th>coursetype</th></tr>\n",
       "<tr><td>C0001</td><td>Certificate in Cl...</td><td>Technical</td><td>Basic</td><td>Cloud</td></tr>\n",
       "<tr><td>C0002</td><td>Certificate in Vi...</td><td>Technical</td><td>Basic</td><td>Cloud</td></tr>\n",
       "<tr><td>C0003</td><td>&quot;Diploma in Infor...</td><td> Networking and C...</td><td>Security</td><td>Cloud</td></tr>\n",
       "<tr><td>C0004</td><td>BE (Hons) in CSE ...</td><td>Domain</td><td>Advanced</td><td>Cloud</td></tr>\n",
       "<tr><td>C0005</td><td>BTech in Computer...</td><td>Domain</td><td>Advanced</td><td>Cloud</td></tr>\n",
       "<tr><td>C0006</td><td>BTech in Computer...</td><td>Domain</td><td>Advanced</td><td>Cloud</td></tr>\n",
       "<tr><td>C0007</td><td>BCA with Microsof...</td><td>Security</td><td>Advanced</td><td>Cloud</td></tr>\n",
       "<tr><td>C0008</td><td>BTech in Informat...</td><td>Technical</td><td>Advanced</td><td>Cloud</td></tr>\n",
       "<tr><td>C0009</td><td>MCA with speciali...</td><td>Technical</td><td>Advanced</td><td>Cloud</td></tr>\n",
       "<tr><td>C0010</td><td>ME in Cloud Compu...</td><td>Technical</td><td>Basic</td><td>Cloud</td></tr>\n",
       "<tr><td>C0011</td><td>MTech Computer Sc...</td><td>Technical</td><td>Basic</td><td>Cloud</td></tr>\n",
       "<tr><td>C0012</td><td>Bachelor’s in Com...</td><td>Domain</td><td>Basic</td><td>Hardware and Netw...</td></tr>\n",
       "<tr><td>C0013</td><td>B.Sc in Hardware ...</td><td>Domain</td><td>Advanced</td><td>Hardware and Netw...</td></tr>\n",
       "<tr><td>C0014</td><td>BTech in IT and N...</td><td>Domain</td><td>Basic</td><td>Hardware and Netw...</td></tr>\n",
       "<tr><td>C0015</td><td>BS in Hardware an...</td><td>Domain</td><td>Basic</td><td>Hardware and Netw...</td></tr>\n",
       "<tr><td>C0016</td><td>BSc in Networking...</td><td>Domain</td><td>Basic</td><td>Hardware and Netw...</td></tr>\n",
       "<tr><td>C0017</td><td>M.Tech in Network...</td><td>Domain</td><td>Advanced</td><td>Hardware and Netw...</td></tr>\n",
       "<tr><td>C0018</td><td>M.Sc in Hardware ...</td><td>Domain</td><td>Advanced</td><td>Hardware and Netw...</td></tr>\n",
       "<tr><td>C0019</td><td>MSc in Wireless N...</td><td>Domain</td><td>Advanced</td><td>Hardware and Netw...</td></tr>\n",
       "<tr><td>C0020</td><td>Diploma in Comput...</td><td>Domain</td><td>Advanced</td><td>Hardware and Netw...</td></tr>\n",
       "</table>\n",
       "only showing top 20 rows\n"
      ],
      "text/plain": [
       "+--------+--------------------+--------------------+----------+--------------------+\n",
       "|courseid|               title|          competency|complexity|          coursetype|\n",
       "+--------+--------------------+--------------------+----------+--------------------+\n",
       "|   C0001|Certificate in Cl...|           Technical|     Basic|               Cloud|\n",
       "|   C0002|Certificate in Vi...|           Technical|     Basic|               Cloud|\n",
       "|   C0003|\"Diploma in Infor...| Networking and C...|  Security|               Cloud|\n",
       "|   C0004|BE (Hons) in CSE ...|              Domain|  Advanced|               Cloud|\n",
       "|   C0005|BTech in Computer...|              Domain|  Advanced|               Cloud|\n",
       "|   C0006|BTech in Computer...|              Domain|  Advanced|               Cloud|\n",
       "|   C0007|BCA with Microsof...|            Security|  Advanced|               Cloud|\n",
       "|   C0008|BTech in Informat...|           Technical|  Advanced|               Cloud|\n",
       "|   C0009|MCA with speciali...|           Technical|  Advanced|               Cloud|\n",
       "|   C0010|ME in Cloud Compu...|           Technical|     Basic|               Cloud|\n",
       "|   C0011|MTech Computer Sc...|           Technical|     Basic|               Cloud|\n",
       "|   C0012|Bachelor’s in Com...|              Domain|     Basic|Hardware and Netw...|\n",
       "|   C0013|B.Sc in Hardware ...|              Domain|  Advanced|Hardware and Netw...|\n",
       "|   C0014|BTech in IT and N...|              Domain|     Basic|Hardware and Netw...|\n",
       "|   C0015|BS in Hardware an...|              Domain|     Basic|Hardware and Netw...|\n",
       "|   C0016|BSc in Networking...|              Domain|     Basic|Hardware and Netw...|\n",
       "|   C0017|M.Tech in Network...|              Domain|  Advanced|Hardware and Netw...|\n",
       "|   C0018|M.Sc in Hardware ...|              Domain|  Advanced|Hardware and Netw...|\n",
       "|   C0019|MSc in Wireless N...|              Domain|  Advanced|Hardware and Netw...|\n",
       "|   C0020|Diploma in Comput...|              Domain|  Advanced|Hardware and Netw...|\n",
       "+--------+--------------------+--------------------+----------+--------------------+\n",
       "only showing top 20 rows"
      ]
     },
     "execution_count": 6,
     "metadata": {},
     "output_type": "execute_result"
    }
   ],
   "source": [
    "course_details_df"
   ]
  },
  {
   "cell_type": "code",
   "execution_count": 7,
   "id": "58c60a05",
   "metadata": {},
   "outputs": [
    {
     "data": {
      "text/html": [
       "<table border='1'>\n",
       "<tr><th>studentid</th><th>courseid</th><th>examdate</th><th>attendedstatus</th><th>marks</th><th>result</th></tr>\n",
       "<tr><td>S0151</td><td>C0010</td><td>2019-02-26</td><td>Absent</td><td>0</td><td>Not Qualified</td></tr>\n",
       "<tr><td>S0300</td><td>C0010</td><td>2019-02-26</td><td>Absent</td><td>0</td><td>Not Qualified</td></tr>\n",
       "<tr><td>S0264</td><td>C0006</td><td>2019-02-22</td><td>Absent</td><td>0</td><td>Not Qualified</td></tr>\n",
       "<tr><td>S0148</td><td>C0007</td><td>2019-02-23</td><td>Absent</td><td>0</td><td>Not Qualified</td></tr>\n",
       "<tr><td>S0147</td><td>C0006</td><td>2019-02-22</td><td>Absent</td><td>0</td><td>Not Qualified</td></tr>\n",
       "<tr><td>S0146</td><td>C0005</td><td>2019-02-21</td><td>Absent</td><td>0</td><td>Not Qualified</td></tr>\n",
       "<tr><td>S0084</td><td>C0015</td><td>2019-03-03</td><td>Absent</td><td>0</td><td>Not Qualified</td></tr>\n",
       "<tr><td>S0263</td><td>C0005</td><td>2019-02-21</td><td>Absent</td><td>0</td><td>Not Qualified</td></tr>\n",
       "<tr><td>S0143</td><td>C0002</td><td>2019-02-18</td><td>Absent</td><td>0</td><td>Not Qualified</td></tr>\n",
       "<tr><td>S0023</td><td>C0023</td><td>2019-02-28</td><td>Absent</td><td>0</td><td>Not Qualified</td></tr>\n",
       "<tr><td>S0141</td><td>C0017</td><td>2019-03-05</td><td>Absent</td><td>0</td><td>Not Qualified</td></tr>\n",
       "<tr><td>S0140</td><td>C0016</td><td>2019-03-04</td><td>Absent</td><td>0</td><td>Not Qualified</td></tr>\n",
       "<tr><td>S0139</td><td>C0015</td><td>2019-03-03</td><td>Absent</td><td>0</td><td>Not Qualified</td></tr>\n",
       "<tr><td>S0138</td><td>C0014</td><td>2019-03-02</td><td>Absent</td><td>0</td><td>Not Qualified</td></tr>\n",
       "<tr><td>S0085</td><td>C0016</td><td>2019-03-04</td><td>Absent</td><td>0</td><td>Not Qualified</td></tr>\n",
       "<tr><td>S0136</td><td>C0017</td><td>2019-03-05</td><td>Absent</td><td>0</td><td>Not Qualified</td></tr>\n",
       "<tr><td>S0135</td><td>C0016</td><td>2019-03-04</td><td>Absent</td><td>0</td><td>Not Qualified</td></tr>\n",
       "<tr><td>S0134</td><td>C0015</td><td>2019-03-03</td><td>Absent</td><td>0</td><td>Not Qualified</td></tr>\n",
       "<tr><td>S0133</td><td>C0014</td><td>2019-03-02</td><td>Absent</td><td>0</td><td>Not Qualified</td></tr>\n",
       "<tr><td>S0086</td><td>C0017</td><td>2019-03-05</td><td>Absent</td><td>0</td><td>Not Qualified</td></tr>\n",
       "</table>\n",
       "only showing top 20 rows\n"
      ],
      "text/plain": [
       "+---------+--------+----------+--------------+-----+-------------+\n",
       "|studentid|courseid|  examdate|attendedstatus|marks|       result|\n",
       "+---------+--------+----------+--------------+-----+-------------+\n",
       "|    S0151|   C0010|2019-02-26|        Absent|    0|Not Qualified|\n",
       "|    S0300|   C0010|2019-02-26|        Absent|    0|Not Qualified|\n",
       "|    S0264|   C0006|2019-02-22|        Absent|    0|Not Qualified|\n",
       "|    S0148|   C0007|2019-02-23|        Absent|    0|Not Qualified|\n",
       "|    S0147|   C0006|2019-02-22|        Absent|    0|Not Qualified|\n",
       "|    S0146|   C0005|2019-02-21|        Absent|    0|Not Qualified|\n",
       "|    S0084|   C0015|2019-03-03|        Absent|    0|Not Qualified|\n",
       "|    S0263|   C0005|2019-02-21|        Absent|    0|Not Qualified|\n",
       "|    S0143|   C0002|2019-02-18|        Absent|    0|Not Qualified|\n",
       "|    S0023|   C0023|2019-02-28|        Absent|    0|Not Qualified|\n",
       "|    S0141|   C0017|2019-03-05|        Absent|    0|Not Qualified|\n",
       "|    S0140|   C0016|2019-03-04|        Absent|    0|Not Qualified|\n",
       "|    S0139|   C0015|2019-03-03|        Absent|    0|Not Qualified|\n",
       "|    S0138|   C0014|2019-03-02|        Absent|    0|Not Qualified|\n",
       "|    S0085|   C0016|2019-03-04|        Absent|    0|Not Qualified|\n",
       "|    S0136|   C0017|2019-03-05|        Absent|    0|Not Qualified|\n",
       "|    S0135|   C0016|2019-03-04|        Absent|    0|Not Qualified|\n",
       "|    S0134|   C0015|2019-03-03|        Absent|    0|Not Qualified|\n",
       "|    S0133|   C0014|2019-03-02|        Absent|    0|Not Qualified|\n",
       "|    S0086|   C0017|2019-03-05|        Absent|    0|Not Qualified|\n",
       "+---------+--------+----------+--------------+-----+-------------+\n",
       "only showing top 20 rows"
      ]
     },
     "execution_count": 7,
     "metadata": {},
     "output_type": "execute_result"
    }
   ],
   "source": [
    "course_completion_df"
   ]
  },
  {
   "cell_type": "markdown",
   "id": "126e1551",
   "metadata": {},
   "source": [
    "#### 2.\tFind the following using the PySpark dataframes - "
   ]
  },
  {
   "cell_type": "code",
   "execution_count": 8,
   "id": "7a3a4f6d",
   "metadata": {},
   "outputs": [
    {
     "name": "stdout",
     "output_type": "stream",
     "text": [
      "+-------------+-----+\n",
      "|       result|count|\n",
      "+-------------+-----+\n",
      "|Not Qualified|  149|\n",
      "|    Qualified|  151|\n",
      "+-------------+-----+\n",
      "\n"
     ]
    }
   ],
   "source": [
    "# a. Find the total number of students per result category\n",
    "course_completion_df.groupby('result').count().show()"
   ]
  },
  {
   "cell_type": "code",
   "execution_count": 9,
   "id": "08fa4f83",
   "metadata": {},
   "outputs": [
    {
     "data": {
      "text/plain": [
       "149"
      ]
     },
     "execution_count": 9,
     "metadata": {},
     "output_type": "execute_result"
    }
   ],
   "source": [
    "# b. Find the total number of students absent\n",
    "course_completion_df[course_completion_df['attendedstatus']=='Absent'].count()"
   ]
  },
  {
   "cell_type": "code",
   "execution_count": 10,
   "id": "f6ec229d",
   "metadata": {},
   "outputs": [
    {
     "data": {
      "text/html": [
       "<table border='1'>\n",
       "<tr><th>summary</th><th>studentid</th><th>courseid</th><th>attendedstatus</th><th>marks</th><th>result</th></tr>\n",
       "<tr><td>count</td><td>300</td><td>300</td><td>300</td><td>300</td><td>300</td></tr>\n",
       "<tr><td>mean</td><td>null</td><td>null</td><td>null</td><td>40.013333333333335</td><td>null</td></tr>\n",
       "<tr><td>stddev</td><td>null</td><td>null</td><td>null</td><td>40.34400349016283</td><td>null</td></tr>\n",
       "<tr><td>min</td><td>S0001</td><td>C0001</td><td>Absent</td><td>0</td><td>Not Qualified</td></tr>\n",
       "<tr><td>max</td><td>S0300</td><td>C0030</td><td>Attended</td><td>92</td><td>Qualified</td></tr>\n",
       "</table>\n"
      ],
      "text/plain": [
       "+-------+---------+--------+--------------+------------------+-------------+\n",
       "|summary|studentid|courseid|attendedstatus|             marks|       result|\n",
       "+-------+---------+--------+--------------+------------------+-------------+\n",
       "|  count|      300|     300|           300|               300|          300|\n",
       "|   mean|     null|    null|          null|40.013333333333335|         null|\n",
       "| stddev|     null|    null|          null| 40.34400349016283|         null|\n",
       "|    min|    S0001|   C0001|        Absent|                 0|Not Qualified|\n",
       "|    max|    S0300|   C0030|      Attended|                92|    Qualified|\n",
       "+-------+---------+--------+--------------+------------------+-------------+"
      ]
     },
     "execution_count": 10,
     "metadata": {},
     "output_type": "execute_result"
    }
   ],
   "source": [
    "course_completion_df.describe()"
   ]
  },
  {
   "cell_type": "code",
   "execution_count": 12,
   "id": "6a2a6379",
   "metadata": {},
   "outputs": [
    {
     "name": "stdout",
     "output_type": "stream",
     "text": [
      "+----------+\n",
      "|max(marks)|\n",
      "+----------+\n",
      "|        92|\n",
      "+----------+\n",
      "\n",
      "+----------+\n",
      "|min(marks)|\n",
      "+----------+\n",
      "|         0|\n",
      "+----------+\n",
      "\n",
      "+------------------+\n",
      "|        avg(marks)|\n",
      "+------------------+\n",
      "|40.013333333333335|\n",
      "+------------------+\n",
      "\n"
     ]
    }
   ],
   "source": [
    "# c.Find the maximum, minimum and average marks scored by students\n",
    "course_completion_df.agg({'marks':'max'}).show()\n",
    "course_completion_df.agg({'marks':'min'}).show()\n",
    "course_completion_df.agg({'marks':'avg'}).show()"
   ]
  },
  {
   "cell_type": "code",
   "execution_count": null,
   "id": "107170e1",
   "metadata": {},
   "outputs": [],
   "source": []
  },
  {
   "cell_type": "code",
   "execution_count": null,
   "id": "b7df3693",
   "metadata": {},
   "outputs": [],
   "source": []
  }
 ],
 "metadata": {
  "kernelspec": {
   "display_name": "Pyspark 3",
   "language": "python",
   "name": "pyspark3"
  },
  "language_info": {
   "codemirror_mode": {
    "name": "ipython",
    "version": 3
   },
   "file_extension": ".py",
   "mimetype": "text/x-python",
   "name": "python",
   "nbconvert_exporter": "python",
   "pygments_lexer": "ipython3",
   "version": "3.6.12"
  }
 },
 "nbformat": 4,
 "nbformat_minor": 5
}
